{
 "cells": [
  {
   "cell_type": "code",
   "execution_count": 16,
   "id": "2149073a",
   "metadata": {},
   "outputs": [],
   "source": [
    "import pandas as pd\n",
    "from matplotlib import pyplot as plt\n",
    "import seaborn as sns\n",
    "import numpy as np"
   ]
  },
  {
   "cell_type": "code",
   "execution_count": 17,
   "id": "e1213300",
   "metadata": {},
   "outputs": [],
   "source": [
    "df = pd.read_csv('breast-cancer-wisconsin.csv')"
   ]
  },
  {
   "cell_type": "code",
   "execution_count": 18,
   "id": "fa81e3cb",
   "metadata": {},
   "outputs": [
    {
     "data": {
      "text/html": [
       "<div>\n",
       "<style scoped>\n",
       "    .dataframe tbody tr th:only-of-type {\n",
       "        vertical-align: middle;\n",
       "    }\n",
       "\n",
       "    .dataframe tbody tr th {\n",
       "        vertical-align: top;\n",
       "    }\n",
       "\n",
       "    .dataframe thead th {\n",
       "        text-align: right;\n",
       "    }\n",
       "</style>\n",
       "<table border=\"1\" class=\"dataframe\">\n",
       "  <thead>\n",
       "    <tr style=\"text-align: right;\">\n",
       "      <th></th>\n",
       "      <th>id</th>\n",
       "      <th>clump thickness</th>\n",
       "      <th>uniformity of cell size</th>\n",
       "      <th>uniformity of cell shape</th>\n",
       "      <th>marginal adhesion</th>\n",
       "      <th>single epithelial cell size</th>\n",
       "      <th>bare nuclei</th>\n",
       "      <th>bland chromatin</th>\n",
       "      <th>normal nucleoli</th>\n",
       "      <th>mitoses</th>\n",
       "      <th>class</th>\n",
       "    </tr>\n",
       "  </thead>\n",
       "  <tbody>\n",
       "    <tr>\n",
       "      <th>0</th>\n",
       "      <td>1000025</td>\n",
       "      <td>5</td>\n",
       "      <td>1</td>\n",
       "      <td>1</td>\n",
       "      <td>1</td>\n",
       "      <td>2</td>\n",
       "      <td>1</td>\n",
       "      <td>3</td>\n",
       "      <td>1</td>\n",
       "      <td>1</td>\n",
       "      <td>2</td>\n",
       "    </tr>\n",
       "    <tr>\n",
       "      <th>1</th>\n",
       "      <td>1002945</td>\n",
       "      <td>5</td>\n",
       "      <td>4</td>\n",
       "      <td>4</td>\n",
       "      <td>5</td>\n",
       "      <td>7</td>\n",
       "      <td>10</td>\n",
       "      <td>3</td>\n",
       "      <td>2</td>\n",
       "      <td>1</td>\n",
       "      <td>2</td>\n",
       "    </tr>\n",
       "    <tr>\n",
       "      <th>2</th>\n",
       "      <td>1015425</td>\n",
       "      <td>3</td>\n",
       "      <td>1</td>\n",
       "      <td>1</td>\n",
       "      <td>1</td>\n",
       "      <td>2</td>\n",
       "      <td>2</td>\n",
       "      <td>3</td>\n",
       "      <td>1</td>\n",
       "      <td>1</td>\n",
       "      <td>2</td>\n",
       "    </tr>\n",
       "    <tr>\n",
       "      <th>3</th>\n",
       "      <td>1016277</td>\n",
       "      <td>6</td>\n",
       "      <td>8</td>\n",
       "      <td>8</td>\n",
       "      <td>1</td>\n",
       "      <td>3</td>\n",
       "      <td>4</td>\n",
       "      <td>3</td>\n",
       "      <td>7</td>\n",
       "      <td>1</td>\n",
       "      <td>2</td>\n",
       "    </tr>\n",
       "    <tr>\n",
       "      <th>4</th>\n",
       "      <td>1017023</td>\n",
       "      <td>4</td>\n",
       "      <td>1</td>\n",
       "      <td>1</td>\n",
       "      <td>3</td>\n",
       "      <td>2</td>\n",
       "      <td>1</td>\n",
       "      <td>3</td>\n",
       "      <td>1</td>\n",
       "      <td>1</td>\n",
       "      <td>2</td>\n",
       "    </tr>\n",
       "  </tbody>\n",
       "</table>\n",
       "</div>"
      ],
      "text/plain": [
       "        id  clump thickness  uniformity of cell size  \\\n",
       "0  1000025                5                        1   \n",
       "1  1002945                5                        4   \n",
       "2  1015425                3                        1   \n",
       "3  1016277                6                        8   \n",
       "4  1017023                4                        1   \n",
       "\n",
       "   uniformity of cell shape  marginal adhesion   single epithelial cell size  \\\n",
       "0                         1                   1                            2   \n",
       "1                         4                   5                            7   \n",
       "2                         1                   1                            2   \n",
       "3                         8                   1                            3   \n",
       "4                         1                   3                            2   \n",
       "\n",
       "  bare nuclei  bland chromatin  normal nucleoli  mitoses  class  \n",
       "0           1                3                1        1      2  \n",
       "1          10                3                2        1      2  \n",
       "2           2                3                1        1      2  \n",
       "3           4                3                7        1      2  \n",
       "4           1                3                1        1      2  "
      ]
     },
     "execution_count": 18,
     "metadata": {},
     "output_type": "execute_result"
    }
   ],
   "source": [
    "df.head()"
   ]
  },
  {
   "cell_type": "code",
   "execution_count": 19,
   "id": "6d967c74",
   "metadata": {
    "scrolled": true
   },
   "outputs": [
    {
     "name": "stdout",
     "output_type": "stream",
     "text": [
      "                             count          mean            std      min  \\\n",
      "id                           699.0  1.071704e+06  617095.729819  61634.0   \n",
      "clump thickness              699.0  4.417740e+00       2.815741      1.0   \n",
      "uniformity of cell size      699.0  3.134478e+00       3.051459      1.0   \n",
      "uniformity of cell shape     699.0  3.207439e+00       2.971913      1.0   \n",
      "marginal adhesion            699.0  2.806867e+00       2.855379      1.0   \n",
      "single epithelial cell size  699.0  3.216023e+00       2.214300      1.0   \n",
      "bland chromatin              699.0  3.437768e+00       2.438364      1.0   \n",
      "normal nucleoli              699.0  2.866953e+00       3.053634      1.0   \n",
      "mitoses                      699.0  1.589413e+00       1.715078      1.0   \n",
      "class                        699.0  2.689557e+00       0.951273      2.0   \n",
      "\n",
      "                                  25%        50%        75%         max  \n",
      "id                           870688.5  1171710.0  1238298.0  13454352.0  \n",
      "clump thickness                   2.0        4.0        6.0        10.0  \n",
      "uniformity of cell size           1.0        1.0        5.0        10.0  \n",
      "uniformity of cell shape          1.0        1.0        5.0        10.0  \n",
      "marginal adhesion                 1.0        1.0        4.0        10.0  \n",
      "single epithelial cell size       2.0        2.0        4.0        10.0  \n",
      "bland chromatin                   2.0        3.0        5.0        10.0  \n",
      "normal nucleoli                   1.0        1.0        4.0        10.0  \n",
      "mitoses                           1.0        1.0        1.0        10.0  \n",
      "class                             2.0        2.0        4.0         4.0  \n"
     ]
    }
   ],
   "source": [
    "print(df.describe().T)"
   ]
  },
  {
   "cell_type": "code",
   "execution_count": 20,
   "id": "5bf75f43",
   "metadata": {},
   "outputs": [
    {
     "name": "stdout",
     "output_type": "stream",
     "text": [
      "id                             0\n",
      "clump thickness                0\n",
      "uniformity of cell size        0\n",
      "uniformity of cell shape       0\n",
      "marginal adhesion              0\n",
      "single epithelial cell size    0\n",
      "bare nuclei                    0\n",
      "bland chromatin                0\n",
      "normal nucleoli                0\n",
      "mitoses                        0\n",
      "class                          0\n",
      "dtype: int64\n"
     ]
    }
   ],
   "source": [
    "print(df.isnull().sum())\n",
    "#df = df.dropna()"
   ]
  },
  {
   "cell_type": "code",
   "execution_count": 21,
   "id": "a3cbb999",
   "metadata": {},
   "outputs": [
    {
     "name": "stdout",
     "output_type": "stream",
     "text": [
      "id                              int64\n",
      "clump thickness                 int64\n",
      "uniformity of cell size         int64\n",
      "uniformity of cell shape        int64\n",
      "marginal adhesion               int64\n",
      "single epithelial cell size     int64\n",
      "bare nuclei                    object\n",
      "bland chromatin                 int64\n",
      "normal nucleoli                 int64\n",
      "mitoses                         int64\n",
      "label                           int64\n",
      "dtype: object\n"
     ]
    }
   ],
   "source": [
    "df = df.rename(columns={'class':'label'})\n",
    "print(df.dtypes)"
   ]
  },
  {
   "cell_type": "code",
   "execution_count": 22,
   "id": "fa2745bd",
   "metadata": {},
   "outputs": [],
   "source": [
    "df['bare nuclei'].replace('?',np.nan,inplace=True)\n",
    "df['bare nuclei'].fillna(value=0,inplace=True)\n",
    "\n",
    "df['bare nuclei']=df['bare nuclei'].astype(int)\n",
    "df['bare nuclei'].replace(0,df['bare nuclei'].mean(),inplace=True )"
   ]
  },
  {
   "cell_type": "code",
   "execution_count": 23,
   "id": "9c247890",
   "metadata": {},
   "outputs": [
    {
     "name": "stdout",
     "output_type": "stream",
     "text": [
      "id                               int64\n",
      "clump thickness                  int64\n",
      "uniformity of cell size          int64\n",
      "uniformity of cell shape         int64\n",
      "marginal adhesion                int64\n",
      "single epithelial cell size      int64\n",
      "bare nuclei                    float64\n",
      "bland chromatin                  int64\n",
      "normal nucleoli                  int64\n",
      "mitoses                          int64\n",
      "label                            int64\n",
      "dtype: object\n"
     ]
    }
   ],
   "source": [
    "df = df.rename(columns={'class':'label'})\n",
    "print(df.dtypes)"
   ]
  },
  {
   "cell_type": "code",
   "execution_count": 24,
   "id": "50ba028a",
   "metadata": {},
   "outputs": [
    {
     "data": {
      "text/plain": [
       "<Axes: xlabel='label', ylabel='count'>"
      ]
     },
     "execution_count": 24,
     "metadata": {},
     "output_type": "execute_result"
    },
    {
     "data": {
      "image/png": "[encoded data removed]",
      "text/plain": [
       "<Figure size 640x480 with 1 Axes>"
      ]
     },
     "metadata": {},
     "output_type": "display_data"
    }
   ],
   "source": [
    "#Understand the data \n",
    "sns.countplot(x=\"label\", data=df) #M - malignant   B - benign"
   ]
  },
  {
   "cell_type": "code",
   "execution_count": 25,
   "id": "467f4586",
   "metadata": {},
   "outputs": [
    {
     "name": "stdout",
     "output_type": "stream",
     "text": [
      "Distribution of data:  2    458\n",
      "4    241\n",
      "Name: label, dtype: int64\n",
      "Labels before encoding are:  [2 4]\n",
      "Labels after encoding are:  [0 1]\n"
     ]
    }
   ],
   "source": [
    "####### Replace categorical values with numbers########\n",
    "print(\"Distribution of data: \", df['label'].value_counts())\n",
    "\n",
    "#Define the dependent variable that needs to be predicted (labels)\n",
    "y = df[\"label\"].values\n",
    "print(\"Labels before encoding are: \", np.unique(y))\n",
    "\n",
    "# Encoding categorical data from text (B and M) to integers (0 and 1)\n",
    "from sklearn.preprocessing import LabelEncoder\n",
    "labelencoder = LabelEncoder()\n",
    "Y = labelencoder.fit_transform(y) # M=1 and B=0\n",
    "print(\"Labels after encoding are: \", np.unique(Y))"
   ]
  },
  {
   "cell_type": "code",
   "execution_count": 26,
   "id": "bf69399f",
   "metadata": {},
   "outputs": [
    {
     "name": "stdout",
     "output_type": "stream",
     "text": [
      "                             count      mean       std  min  25%  50%  75%  \\\n",
      "clump thickness              699.0  4.417740  2.815741  1.0  2.0  4.0  6.0   \n",
      "uniformity of cell size      699.0  3.134478  3.051459  1.0  1.0  1.0  5.0   \n",
      "uniformity of cell shape     699.0  3.207439  2.971913  1.0  1.0  1.0  5.0   \n",
      "marginal adhesion            699.0  2.806867  2.855379  1.0  1.0  1.0  4.0   \n",
      "single epithelial cell size  699.0  3.216023  2.214300  1.0  2.0  2.0  4.0   \n",
      "bare nuclei                  699.0  3.542799  3.601872  1.0  1.0  1.0  5.0   \n",
      "bland chromatin              699.0  3.437768  2.438364  1.0  2.0  3.0  5.0   \n",
      "normal nucleoli              699.0  2.866953  3.053634  1.0  1.0  1.0  4.0   \n",
      "mitoses                      699.0  1.589413  1.715078  1.0  1.0  1.0  1.0   \n",
      "\n",
      "                              max  \n",
      "clump thickness              10.0  \n",
      "uniformity of cell size      10.0  \n",
      "uniformity of cell shape     10.0  \n",
      "marginal adhesion            10.0  \n",
      "single epithelial cell size  10.0  \n",
      "bare nuclei                  10.0  \n",
      "bland chromatin              10.0  \n",
      "normal nucleoli              10.0  \n",
      "mitoses                      10.0  \n"
     ]
    }
   ],
   "source": [
    "#Define x and normalize / scale values\n",
    "\n",
    "#Define the independent variables. Drop label and ID, and normalize other data\n",
    "X = df.drop(labels = [\"label\", \"id\"], axis=1) \n",
    "print(X.describe().T) #Needs scaling"
   ]
  },
  {
   "cell_type": "code",
   "execution_count": 27,
   "id": "7fd4237a",
   "metadata": {},
   "outputs": [
    {
     "name": "stdout",
     "output_type": "stream",
     "text": [
      "Shape of training data is:  (524, 9)\n",
      "Shape of testing data is:  (175, 9)\n"
     ]
    }
   ],
   "source": [
    "#Split data into train and test to verify accuracy after fitting the model. \n",
    "from sklearn.model_selection import train_test_split\n",
    "X_train, X_test, y_train, y_test = train_test_split(X, Y, test_size=0.25, random_state=42)\n",
    "print(\"Shape of training data is: \", X_train.shape)\n",
    "print(\"Shape of testing data is: \", X_test.shape)"
   ]
  },
  {
   "cell_type": "code",
   "execution_count": 1,
   "id": "fa0db037",
   "metadata": {
    "scrolled": false
   },
   "outputs": [
    {
     "ename": "ModuleNotFoundError",
     "evalue": "No module named 'tensorflow.compat'",
     "output_type": "error",
     "traceback": [
      "\u001b[1;31m---------------------------------------------------------------------------\u001b[0m",
      "\u001b[1;31mModuleNotFoundError\u001b[0m                       Traceback (most recent call last)",
      "Cell \u001b[1;32mIn[1], line 1\u001b[0m\n\u001b[1;32m----> 1\u001b[0m \u001b[38;5;28;01mfrom\u001b[39;00m \u001b[38;5;21;01mkeras\u001b[39;00m\u001b[38;5;21;01m.\u001b[39;00m\u001b[38;5;21;01mmodels\u001b[39;00m \u001b[38;5;28;01mimport\u001b[39;00m Sequential\n\u001b[0;32m      2\u001b[0m \u001b[38;5;28;01mfrom\u001b[39;00m \u001b[38;5;21;01mkeras\u001b[39;00m\u001b[38;5;21;01m.\u001b[39;00m\u001b[38;5;21;01mlayers\u001b[39;00m \u001b[38;5;28;01mimport\u001b[39;00m Dense, Activation, Dropout\n",
      "File \u001b[1;32m~\\AppData\\Roaming\\Python\\Python39\\site-packages\\keras\\__init__.py:21\u001b[0m\n\u001b[0;32m     15\u001b[0m \u001b[38;5;124;03m\"\"\"Implementation of the Keras API, the high-level API of TensorFlow.\u001b[39;00m\n\u001b[0;32m     16\u001b[0m \n\u001b[0;32m     17\u001b[0m \u001b[38;5;124;03mDetailed documentation and user guides are available at\u001b[39;00m\n\u001b[0;32m     18\u001b[0m \u001b[38;5;124;03m[keras.io](https://keras.io).\u001b[39;00m\n\u001b[0;32m     19\u001b[0m \u001b[38;5;124;03m\"\"\"\u001b[39;00m\n\u001b[0;32m     20\u001b[0m \u001b[38;5;28;01mfrom\u001b[39;00m \u001b[38;5;21;01mkeras\u001b[39;00m \u001b[38;5;28;01mimport\u001b[39;00m distribute\n\u001b[1;32m---> 21\u001b[0m \u001b[38;5;28;01mfrom\u001b[39;00m \u001b[38;5;21;01mkeras\u001b[39;00m \u001b[38;5;28;01mimport\u001b[39;00m models\n\u001b[0;32m     22\u001b[0m \u001b[38;5;28;01mfrom\u001b[39;00m \u001b[38;5;21;01mkeras\u001b[39;00m\u001b[38;5;21;01m.\u001b[39;00m\u001b[38;5;21;01mengine\u001b[39;00m\u001b[38;5;21;01m.\u001b[39;00m\u001b[38;5;21;01minput_layer\u001b[39;00m \u001b[38;5;28;01mimport\u001b[39;00m Input\n\u001b[0;32m     23\u001b[0m \u001b[38;5;28;01mfrom\u001b[39;00m \u001b[38;5;21;01mkeras\u001b[39;00m\u001b[38;5;21;01m.\u001b[39;00m\u001b[38;5;21;01mengine\u001b[39;00m\u001b[38;5;21;01m.\u001b[39;00m\u001b[38;5;21;01msequential\u001b[39;00m \u001b[38;5;28;01mimport\u001b[39;00m Sequential\n",
      "File \u001b[1;32m~\\AppData\\Roaming\\Python\\Python39\\site-packages\\keras\\models\\__init__.py:18\u001b[0m\n\u001b[0;32m      1\u001b[0m \u001b[38;5;66;03m# Copyright 2022 The TensorFlow Authors. All Rights Reserved.\u001b[39;00m\n\u001b[0;32m      2\u001b[0m \u001b[38;5;66;03m#\u001b[39;00m\n\u001b[0;32m      3\u001b[0m \u001b[38;5;66;03m# Licensed under the Apache License, Version 2.0 (the \"License\");\u001b[39;00m\n\u001b[1;32m   (...)\u001b[0m\n\u001b[0;32m     13\u001b[0m \u001b[38;5;66;03m# limitations under the License.\u001b[39;00m\n\u001b[0;32m     14\u001b[0m \u001b[38;5;66;03m# ==============================================================================\u001b[39;00m\n\u001b[0;32m     15\u001b[0m \u001b[38;5;124;03m\"\"\"Keras models API.\"\"\"\u001b[39;00m\n\u001b[1;32m---> 18\u001b[0m \u001b[38;5;28;01mfrom\u001b[39;00m \u001b[38;5;21;01mkeras\u001b[39;00m\u001b[38;5;21;01m.\u001b[39;00m\u001b[38;5;21;01mengine\u001b[39;00m\u001b[38;5;21;01m.\u001b[39;00m\u001b[38;5;21;01mfunctional\u001b[39;00m \u001b[38;5;28;01mimport\u001b[39;00m Functional\n\u001b[0;32m     19\u001b[0m \u001b[38;5;28;01mfrom\u001b[39;00m \u001b[38;5;21;01mkeras\u001b[39;00m\u001b[38;5;21;01m.\u001b[39;00m\u001b[38;5;21;01mengine\u001b[39;00m\u001b[38;5;21;01m.\u001b[39;00m\u001b[38;5;21;01msequential\u001b[39;00m \u001b[38;5;28;01mimport\u001b[39;00m Sequential\n\u001b[0;32m     20\u001b[0m \u001b[38;5;28;01mfrom\u001b[39;00m \u001b[38;5;21;01mkeras\u001b[39;00m\u001b[38;5;21;01m.\u001b[39;00m\u001b[38;5;21;01mengine\u001b[39;00m\u001b[38;5;21;01m.\u001b[39;00m\u001b[38;5;21;01mtraining\u001b[39;00m \u001b[38;5;28;01mimport\u001b[39;00m Model\n",
      "File \u001b[1;32m~\\AppData\\Roaming\\Python\\Python39\\site-packages\\keras\\engine\\functional.py:24\u001b[0m\n\u001b[0;32m     21\u001b[0m \u001b[38;5;28;01mimport\u001b[39;00m \u001b[38;5;21;01mitertools\u001b[39;00m\n\u001b[0;32m     22\u001b[0m \u001b[38;5;28;01mimport\u001b[39;00m \u001b[38;5;21;01mwarnings\u001b[39;00m\n\u001b[1;32m---> 24\u001b[0m \u001b[38;5;28;01mimport\u001b[39;00m \u001b[38;5;21;01mtensorflow\u001b[39;00m\u001b[38;5;21;01m.\u001b[39;00m\u001b[38;5;21;01mcompat\u001b[39;00m\u001b[38;5;21;01m.\u001b[39;00m\u001b[38;5;21;01mv2\u001b[39;00m \u001b[38;5;28;01mas\u001b[39;00m \u001b[38;5;21;01mtf\u001b[39;00m\n\u001b[0;32m     26\u001b[0m \u001b[38;5;28;01mfrom\u001b[39;00m \u001b[38;5;21;01mkeras\u001b[39;00m \u001b[38;5;28;01mimport\u001b[39;00m backend\n\u001b[0;32m     27\u001b[0m \u001b[38;5;28;01mfrom\u001b[39;00m \u001b[38;5;21;01mkeras\u001b[39;00m\u001b[38;5;21;01m.\u001b[39;00m\u001b[38;5;21;01mdtensor\u001b[39;00m \u001b[38;5;28;01mimport\u001b[39;00m layout_map \u001b[38;5;28;01mas\u001b[39;00m layout_map_lib\n",
      "\u001b[1;31mModuleNotFoundError\u001b[0m: No module named 'tensorflow.compat'"
     ]
    }
   ],
   "source": [
    "from keras.models import Sequential\n",
    "from keras.layers import Dense, Activation, Dropout"
   ]
  },
  {
   "cell_type": "code",
   "execution_count": 31,
   "id": "ecc4537d",
   "metadata": {},
   "outputs": [
    {
     "name": "stdout",
     "output_type": "stream",
     "text": [
      "Model: \"sequential_1\"\n",
      "_________________________________________________________________\n",
      " Layer (type)                Output Shape              Param #   \n",
      "=================================================================\n",
      " dense_2 (Dense)             (None, 16)                160       \n",
      "                                                                 \n",
      " dropout_1 (Dropout)         (None, 16)                0         \n",
      "                                                                 \n",
      " dense_3 (Dense)             (None, 1)                 17        \n",
      "                                                                 \n",
      " activation_1 (Activation)   (None, 1)                 0         \n",
      "                                                                 \n",
      "=================================================================\n",
      "Total params: 177\n",
      "Trainable params: 177\n",
      "Non-trainable params: 0\n",
      "_________________________________________________________________\n",
      "None\n"
     ]
    }
   ],
   "source": [
    "model = Sequential()\n",
    "model.add(Dense(16, input_dim=9, activation='relu')) \n",
    "model.add(Dropout(0.2))\n",
    "model.add(Dense(1)) \n",
    "model.add(Activation('sigmoid')) \n",
    " \n",
    "model.compile(loss='binary_crossentropy', optimizer='adam', metrics=['accuracy'])\n",
    "\n",
    "print(model.summary())"
   ]
  },
  {
   "cell_type": "code",
   "execution_count": 32,
   "id": "89a3b365",
   "metadata": {},
   "outputs": [
    {
     "name": "stdout",
     "output_type": "stream",
     "text": [
      "Epoch 1/100\n",
      "9/9 [==============================] - 3s 74ms/step - loss: 1.9223 - accuracy: 0.5592 - val_loss: 1.3663 - val_accuracy: 0.5486\n",
      "Epoch 2/100\n",
      "9/9 [==============================] - 0s 16ms/step - loss: 1.7826 - accuracy: 0.4752 - val_loss: 1.1221 - val_accuracy: 0.4857\n",
      "Epoch 3/100\n",
      "9/9 [==============================] - 0s 16ms/step - loss: 1.5394 - accuracy: 0.4389 - val_loss: 0.9730 - val_accuracy: 0.4686\n",
      "Epoch 4/100\n",
      "9/9 [==============================] - 0s 15ms/step - loss: 1.4671 - accuracy: 0.4332 - val_loss: 0.8799 - val_accuracy: 0.4457\n",
      "Epoch 5/100\n",
      "9/9 [==============================] - 0s 14ms/step - loss: 1.4808 - accuracy: 0.4122 - val_loss: 0.8252 - val_accuracy: 0.4629\n",
      "Epoch 6/100\n",
      "9/9 [==============================] - 0s 15ms/step - loss: 1.2771 - accuracy: 0.4389 - val_loss: 0.7903 - val_accuracy: 0.4743\n",
      "Epoch 7/100\n",
      "9/9 [==============================] - 0s 15ms/step - loss: 1.2601 - accuracy: 0.4656 - val_loss: 0.7583 - val_accuracy: 0.4914\n",
      "Epoch 8/100\n",
      "9/9 [==============================] - 0s 14ms/step - loss: 1.1244 - accuracy: 0.4828 - val_loss: 0.7265 - val_accuracy: 0.5029\n",
      "Epoch 9/100\n",
      "9/9 [==============================] - 0s 15ms/step - loss: 1.0230 - accuracy: 0.5382 - val_loss: 0.6984 - val_accuracy: 0.5486\n",
      "Epoch 10/100\n",
      "9/9 [==============================] - 0s 16ms/step - loss: 1.0295 - accuracy: 0.5553 - val_loss: 0.6728 - val_accuracy: 0.5657\n",
      "Epoch 11/100\n",
      "9/9 [==============================] - 0s 24ms/step - loss: 1.1193 - accuracy: 0.5687 - val_loss: 0.6492 - val_accuracy: 0.6400\n",
      "Epoch 12/100\n",
      "9/9 [==============================] - 0s 14ms/step - loss: 0.9055 - accuracy: 0.6164 - val_loss: 0.6267 - val_accuracy: 0.6857\n",
      "Epoch 13/100\n",
      "9/9 [==============================] - 0s 16ms/step - loss: 0.9143 - accuracy: 0.5992 - val_loss: 0.6076 - val_accuracy: 0.7257\n",
      "Epoch 14/100\n",
      "9/9 [==============================] - 0s 23ms/step - loss: 0.8651 - accuracy: 0.6050 - val_loss: 0.5880 - val_accuracy: 0.7771\n",
      "Epoch 15/100\n",
      "9/9 [==============================] - 0s 21ms/step - loss: 0.8557 - accuracy: 0.6183 - val_loss: 0.5699 - val_accuracy: 0.7943\n",
      "Epoch 16/100\n",
      "9/9 [==============================] - 0s 29ms/step - loss: 0.8611 - accuracy: 0.6183 - val_loss: 0.5518 - val_accuracy: 0.8171\n",
      "Epoch 17/100\n",
      "9/9 [==============================] - 0s 30ms/step - loss: 0.8673 - accuracy: 0.6508 - val_loss: 0.5366 - val_accuracy: 0.8229\n",
      "Epoch 18/100\n",
      "9/9 [==============================] - 0s 32ms/step - loss: 0.7851 - accuracy: 0.6374 - val_loss: 0.5224 - val_accuracy: 0.8286\n",
      "Epoch 19/100\n",
      "9/9 [==============================] - 0s 29ms/step - loss: 0.7083 - accuracy: 0.6889 - val_loss: 0.5072 - val_accuracy: 0.8400\n",
      "Epoch 20/100\n",
      "9/9 [==============================] - 0s 23ms/step - loss: 0.8152 - accuracy: 0.6832 - val_loss: 0.4948 - val_accuracy: 0.8457\n",
      "Epoch 21/100\n",
      "9/9 [==============================] - 0s 30ms/step - loss: 0.7254 - accuracy: 0.6985 - val_loss: 0.4853 - val_accuracy: 0.8400\n",
      "Epoch 22/100\n",
      "9/9 [==============================] - 0s 30ms/step - loss: 0.7467 - accuracy: 0.6813 - val_loss: 0.4757 - val_accuracy: 0.8400\n",
      "Epoch 23/100\n",
      "9/9 [==============================] - 0s 23ms/step - loss: 0.6499 - accuracy: 0.7214 - val_loss: 0.4640 - val_accuracy: 0.8457\n",
      "Epoch 24/100\n",
      "9/9 [==============================] - 0s 16ms/step - loss: 0.6987 - accuracy: 0.6889 - val_loss: 0.4512 - val_accuracy: 0.8514\n",
      "Epoch 25/100\n",
      "9/9 [==============================] - 0s 14ms/step - loss: 0.6088 - accuracy: 0.7366 - val_loss: 0.4416 - val_accuracy: 0.8686\n",
      "Epoch 26/100\n",
      "9/9 [==============================] - 0s 16ms/step - loss: 0.6174 - accuracy: 0.7748 - val_loss: 0.4338 - val_accuracy: 0.8800\n",
      "Epoch 27/100\n",
      "9/9 [==============================] - 0s 15ms/step - loss: 0.5646 - accuracy: 0.7595 - val_loss: 0.4293 - val_accuracy: 0.8743\n",
      "Epoch 28/100\n",
      "9/9 [==============================] - 0s 20ms/step - loss: 0.5579 - accuracy: 0.7863 - val_loss: 0.4204 - val_accuracy: 0.8743\n",
      "Epoch 29/100\n",
      "9/9 [==============================] - 0s 23ms/step - loss: 0.5874 - accuracy: 0.7767 - val_loss: 0.4079 - val_accuracy: 0.8743\n",
      "Epoch 30/100\n",
      "9/9 [==============================] - 0s 27ms/step - loss: 0.5774 - accuracy: 0.7767 - val_loss: 0.3981 - val_accuracy: 0.8800\n",
      "Epoch 31/100\n",
      "9/9 [==============================] - 0s 22ms/step - loss: 0.5351 - accuracy: 0.8130 - val_loss: 0.3920 - val_accuracy: 0.8800\n",
      "Epoch 32/100\n",
      "9/9 [==============================] - 0s 17ms/step - loss: 0.5026 - accuracy: 0.7939 - val_loss: 0.3832 - val_accuracy: 0.8857\n",
      "Epoch 33/100\n",
      "9/9 [==============================] - 0s 16ms/step - loss: 0.4665 - accuracy: 0.8225 - val_loss: 0.3749 - val_accuracy: 0.8914\n",
      "Epoch 34/100\n",
      "9/9 [==============================] - 0s 18ms/step - loss: 0.5229 - accuracy: 0.8225 - val_loss: 0.3686 - val_accuracy: 0.8914\n",
      "Epoch 35/100\n",
      "9/9 [==============================] - 0s 17ms/step - loss: 0.5161 - accuracy: 0.8015 - val_loss: 0.3626 - val_accuracy: 0.8914\n",
      "Epoch 36/100\n",
      "9/9 [==============================] - 0s 18ms/step - loss: 0.4663 - accuracy: 0.8111 - val_loss: 0.3583 - val_accuracy: 0.9029\n",
      "Epoch 37/100\n",
      "9/9 [==============================] - 0s 16ms/step - loss: 0.4520 - accuracy: 0.8378 - val_loss: 0.3513 - val_accuracy: 0.9029\n",
      "Epoch 38/100\n",
      "9/9 [==============================] - 0s 15ms/step - loss: 0.4319 - accuracy: 0.8511 - val_loss: 0.3374 - val_accuracy: 0.9257\n",
      "Epoch 39/100\n",
      "9/9 [==============================] - 0s 16ms/step - loss: 0.4875 - accuracy: 0.8397 - val_loss: 0.3247 - val_accuracy: 0.9314\n",
      "Epoch 40/100\n",
      "9/9 [==============================] - 0s 15ms/step - loss: 0.4387 - accuracy: 0.8531 - val_loss: 0.3153 - val_accuracy: 0.9314\n",
      "Epoch 41/100\n",
      "9/9 [==============================] - 0s 17ms/step - loss: 0.4334 - accuracy: 0.8702 - val_loss: 0.3105 - val_accuracy: 0.9371\n",
      "Epoch 42/100\n",
      "9/9 [==============================] - 0s 16ms/step - loss: 0.3774 - accuracy: 0.8664 - val_loss: 0.3016 - val_accuracy: 0.9371\n",
      "Epoch 43/100\n",
      "9/9 [==============================] - 0s 15ms/step - loss: 0.4069 - accuracy: 0.8645 - val_loss: 0.2931 - val_accuracy: 0.9429\n",
      "Epoch 44/100\n",
      "9/9 [==============================] - 0s 34ms/step - loss: 0.4061 - accuracy: 0.8702 - val_loss: 0.2921 - val_accuracy: 0.9429\n",
      "Epoch 45/100\n",
      "9/9 [==============================] - 0s 18ms/step - loss: 0.3722 - accuracy: 0.8836 - val_loss: 0.2911 - val_accuracy: 0.9429\n",
      "Epoch 46/100\n",
      "9/9 [==============================] - 0s 16ms/step - loss: 0.4047 - accuracy: 0.8607 - val_loss: 0.2867 - val_accuracy: 0.9429\n",
      "Epoch 47/100\n",
      "9/9 [==============================] - 0s 16ms/step - loss: 0.3991 - accuracy: 0.8740 - val_loss: 0.2843 - val_accuracy: 0.9429\n",
      "Epoch 48/100\n",
      "9/9 [==============================] - 0s 13ms/step - loss: 0.3686 - accuracy: 0.8760 - val_loss: 0.2796 - val_accuracy: 0.9429\n",
      "Epoch 49/100\n",
      "9/9 [==============================] - 0s 16ms/step - loss: 0.3506 - accuracy: 0.8836 - val_loss: 0.2696 - val_accuracy: 0.9429\n",
      "Epoch 50/100\n",
      "9/9 [==============================] - 0s 15ms/step - loss: 0.3606 - accuracy: 0.8950 - val_loss: 0.2657 - val_accuracy: 0.9429\n",
      "Epoch 51/100\n",
      "9/9 [==============================] - 0s 17ms/step - loss: 0.3747 - accuracy: 0.8855 - val_loss: 0.2635 - val_accuracy: 0.9429\n",
      "Epoch 52/100\n",
      "9/9 [==============================] - 0s 24ms/step - loss: 0.3493 - accuracy: 0.9008 - val_loss: 0.2602 - val_accuracy: 0.9429\n",
      "Epoch 53/100\n",
      "9/9 [==============================] - 0s 22ms/step - loss: 0.3107 - accuracy: 0.9103 - val_loss: 0.2608 - val_accuracy: 0.9371\n",
      "Epoch 54/100\n",
      "9/9 [==============================] - 0s 26ms/step - loss: 0.3063 - accuracy: 0.8950 - val_loss: 0.2612 - val_accuracy: 0.9429\n",
      "Epoch 55/100\n",
      "9/9 [==============================] - 0s 21ms/step - loss: 0.3103 - accuracy: 0.9103 - val_loss: 0.2612 - val_accuracy: 0.9429\n",
      "Epoch 56/100\n",
      "9/9 [==============================] - 0s 16ms/step - loss: 0.2973 - accuracy: 0.9198 - val_loss: 0.2551 - val_accuracy: 0.9429\n",
      "Epoch 57/100\n",
      "9/9 [==============================] - 0s 16ms/step - loss: 0.3096 - accuracy: 0.8931 - val_loss: 0.2477 - val_accuracy: 0.9429\n",
      "Epoch 58/100\n",
      "9/9 [==============================] - 0s 18ms/step - loss: 0.2963 - accuracy: 0.9027 - val_loss: 0.2437 - val_accuracy: 0.9429\n",
      "Epoch 59/100\n",
      "9/9 [==============================] - 0s 14ms/step - loss: 0.3093 - accuracy: 0.9141 - val_loss: 0.2427 - val_accuracy: 0.9429\n",
      "Epoch 60/100\n",
      "9/9 [==============================] - 0s 18ms/step - loss: 0.3010 - accuracy: 0.9198 - val_loss: 0.2447 - val_accuracy: 0.9429\n",
      "Epoch 61/100\n",
      "9/9 [==============================] - 0s 18ms/step - loss: 0.2864 - accuracy: 0.9084 - val_loss: 0.2437 - val_accuracy: 0.9429\n",
      "Epoch 62/100\n",
      "9/9 [==============================] - 0s 16ms/step - loss: 0.3090 - accuracy: 0.9065 - val_loss: 0.2396 - val_accuracy: 0.9429\n",
      "Epoch 63/100\n",
      "9/9 [==============================] - 0s 15ms/step - loss: 0.2823 - accuracy: 0.9160 - val_loss: 0.2338 - val_accuracy: 0.9429\n",
      "Epoch 64/100\n",
      "9/9 [==============================] - 0s 21ms/step - loss: 0.2796 - accuracy: 0.9179 - val_loss: 0.2309 - val_accuracy: 0.9486\n",
      "Epoch 65/100\n",
      "9/9 [==============================] - 0s 21ms/step - loss: 0.3071 - accuracy: 0.9046 - val_loss: 0.2312 - val_accuracy: 0.9486\n",
      "Epoch 66/100\n",
      "9/9 [==============================] - 0s 19ms/step - loss: 0.2805 - accuracy: 0.9294 - val_loss: 0.2318 - val_accuracy: 0.9486\n",
      "Epoch 67/100\n",
      "9/9 [==============================] - 0s 17ms/step - loss: 0.2803 - accuracy: 0.9237 - val_loss: 0.2279 - val_accuracy: 0.9486\n",
      "Epoch 68/100\n",
      "9/9 [==============================] - 0s 16ms/step - loss: 0.2694 - accuracy: 0.9179 - val_loss: 0.2241 - val_accuracy: 0.9543\n",
      "Epoch 69/100\n",
      "9/9 [==============================] - 0s 15ms/step - loss: 0.2748 - accuracy: 0.9218 - val_loss: 0.2218 - val_accuracy: 0.9486\n",
      "Epoch 70/100\n",
      "9/9 [==============================] - 0s 16ms/step - loss: 0.2670 - accuracy: 0.9256 - val_loss: 0.2199 - val_accuracy: 0.9486\n",
      "Epoch 71/100\n",
      "9/9 [==============================] - 0s 15ms/step - loss: 0.2729 - accuracy: 0.9179 - val_loss: 0.2189 - val_accuracy: 0.9543\n",
      "Epoch 72/100\n",
      "9/9 [==============================] - 0s 16ms/step - loss: 0.2796 - accuracy: 0.9103 - val_loss: 0.2212 - val_accuracy: 0.9600\n",
      "Epoch 73/100\n",
      "9/9 [==============================] - 0s 15ms/step - loss: 0.2750 - accuracy: 0.9294 - val_loss: 0.2206 - val_accuracy: 0.9600\n",
      "Epoch 74/100\n",
      "9/9 [==============================] - 0s 14ms/step - loss: 0.2385 - accuracy: 0.9351 - val_loss: 0.2163 - val_accuracy: 0.9543\n",
      "Epoch 75/100\n",
      "9/9 [==============================] - 0s 15ms/step - loss: 0.2784 - accuracy: 0.9160 - val_loss: 0.2140 - val_accuracy: 0.9543\n",
      "Epoch 76/100\n",
      "9/9 [==============================] - 0s 15ms/step - loss: 0.2733 - accuracy: 0.9294 - val_loss: 0.2115 - val_accuracy: 0.9600\n",
      "Epoch 77/100\n",
      "9/9 [==============================] - 0s 15ms/step - loss: 0.2602 - accuracy: 0.9179 - val_loss: 0.2095 - val_accuracy: 0.9600\n",
      "Epoch 78/100\n",
      "9/9 [==============================] - 0s 15ms/step - loss: 0.2509 - accuracy: 0.9179 - val_loss: 0.2079 - val_accuracy: 0.9600\n",
      "Epoch 79/100\n",
      "9/9 [==============================] - 0s 17ms/step - loss: 0.2417 - accuracy: 0.9294 - val_loss: 0.2066 - val_accuracy: 0.9600\n",
      "Epoch 80/100\n",
      "9/9 [==============================] - 0s 14ms/step - loss: 0.2646 - accuracy: 0.9408 - val_loss: 0.2048 - val_accuracy: 0.9600\n",
      "Epoch 81/100\n",
      "9/9 [==============================] - 0s 16ms/step - loss: 0.2458 - accuracy: 0.9294 - val_loss: 0.2026 - val_accuracy: 0.9600\n",
      "Epoch 82/100\n",
      "9/9 [==============================] - 0s 15ms/step - loss: 0.2617 - accuracy: 0.9313 - val_loss: 0.2012 - val_accuracy: 0.9600\n",
      "Epoch 83/100\n",
      "9/9 [==============================] - 0s 15ms/step - loss: 0.2407 - accuracy: 0.9294 - val_loss: 0.2008 - val_accuracy: 0.9600\n",
      "Epoch 84/100\n",
      "9/9 [==============================] - 0s 16ms/step - loss: 0.2549 - accuracy: 0.9275 - val_loss: 0.2003 - val_accuracy: 0.9600\n",
      "Epoch 85/100\n",
      "9/9 [==============================] - 0s 14ms/step - loss: 0.2546 - accuracy: 0.9332 - val_loss: 0.1988 - val_accuracy: 0.9657\n",
      "Epoch 86/100\n",
      "9/9 [==============================] - 0s 15ms/step - loss: 0.2338 - accuracy: 0.9313 - val_loss: 0.1973 - val_accuracy: 0.9657\n",
      "Epoch 87/100\n",
      "9/9 [==============================] - 0s 15ms/step - loss: 0.2496 - accuracy: 0.9198 - val_loss: 0.1962 - val_accuracy: 0.9657\n",
      "Epoch 88/100\n",
      "9/9 [==============================] - 0s 14ms/step - loss: 0.2231 - accuracy: 0.9370 - val_loss: 0.1942 - val_accuracy: 0.9600\n",
      "Epoch 89/100\n",
      "9/9 [==============================] - 0s 14ms/step - loss: 0.2348 - accuracy: 0.9294 - val_loss: 0.1923 - val_accuracy: 0.9600\n",
      "Epoch 90/100\n",
      "9/9 [==============================] - 0s 15ms/step - loss: 0.2516 - accuracy: 0.9332 - val_loss: 0.1910 - val_accuracy: 0.9600\n",
      "Epoch 91/100\n",
      "9/9 [==============================] - 0s 15ms/step - loss: 0.2426 - accuracy: 0.9256 - val_loss: 0.1901 - val_accuracy: 0.9543\n",
      "Epoch 92/100\n",
      "9/9 [==============================] - 0s 15ms/step - loss: 0.2375 - accuracy: 0.9332 - val_loss: 0.1909 - val_accuracy: 0.9543\n",
      "Epoch 93/100\n",
      "9/9 [==============================] - 0s 16ms/step - loss: 0.2315 - accuracy: 0.9351 - val_loss: 0.1900 - val_accuracy: 0.9543\n",
      "Epoch 94/100\n",
      "9/9 [==============================] - 0s 15ms/step - loss: 0.2332 - accuracy: 0.9332 - val_loss: 0.1885 - val_accuracy: 0.9543\n",
      "Epoch 95/100\n",
      "9/9 [==============================] - 0s 13ms/step - loss: 0.1926 - accuracy: 0.9408 - val_loss: 0.1871 - val_accuracy: 0.9600\n",
      "Epoch 96/100\n",
      "9/9 [==============================] - 0s 15ms/step - loss: 0.1925 - accuracy: 0.9447 - val_loss: 0.1846 - val_accuracy: 0.9600\n",
      "Epoch 97/100\n",
      "9/9 [==============================] - 0s 15ms/step - loss: 0.2064 - accuracy: 0.9313 - val_loss: 0.1833 - val_accuracy: 0.9657\n",
      "Epoch 98/100\n",
      "9/9 [==============================] - 0s 16ms/step - loss: 0.2077 - accuracy: 0.9389 - val_loss: 0.1821 - val_accuracy: 0.9657\n",
      "Epoch 99/100\n",
      "9/9 [==============================] - 0s 17ms/step - loss: 0.2323 - accuracy: 0.9313 - val_loss: 0.1811 - val_accuracy: 0.9600\n",
      "Epoch 100/100\n",
      "9/9 [==============================] - 0s 16ms/step - loss: 0.2341 - accuracy: 0.9294 - val_loss: 0.1806 - val_accuracy: 0.9600\n"
     ]
    }
   ],
   "source": [
    "#Fit with no early stopping or other callbacks\n",
    "history = model.fit(X_train, y_train, verbose=1, epochs=100, batch_size=64,\n",
    "                    validation_data=(X_test, y_test))"
   ]
  },
  {
   "cell_type": "code",
   "execution_count": 33,
   "id": "6961bd26",
   "metadata": {},
   "outputs": [
    {
     "data": {
      "image/png": "[encoded data removed]",
      "text/plain": [
       "<Figure size 640x480 with 1 Axes>"
      ]
     },
     "metadata": {},
     "output_type": "display_data"
    },
    {
     "data": {
      "image/png": "[encoded data removed]",
      "text/plain": [
       "<Figure size 640x480 with 1 Axes>"
      ]
     },
     "metadata": {},
     "output_type": "display_data"
    }
   ],
   "source": [
    "#plot the training and validation accuracy and loss at each epoch\n",
    "loss = history.history['loss']\n",
    "val_loss = history.history['val_loss']\n",
    "epochs = range(1, len(loss) + 1)\n",
    "plt.plot(epochs, loss, 'y', label='Training loss')\n",
    "plt.plot(epochs, val_loss, 'r', label='Validation loss')\n",
    "plt.title('Training and validation loss')\n",
    "plt.xlabel('Epochs')\n",
    "plt.ylabel('Loss')\n",
    "plt.legend()\n",
    "plt.show()\n",
    "\n",
    "\n",
    "acc = history.history['accuracy']  #Use accuracy if acc doesn't work\n",
    "val_acc = history.history['val_accuracy']  #Use val_accuracy if acc doesn't work\n",
    "plt.plot(epochs, acc, 'y', label='Training acc')\n",
    "plt.plot(epochs, val_acc, 'r', label='Validation acc')\n",
    "plt.title('Training and validation accuracy')\n",
    "plt.xlabel('Epochs')\n",
    "plt.ylabel('Accuracy')\n",
    "plt.legend()\n",
    "plt.show()"
   ]
  },
  {
   "cell_type": "code",
   "execution_count": 34,
   "id": "10d041d1",
   "metadata": {},
   "outputs": [
    {
     "name": "stdout",
     "output_type": "stream",
     "text": [
      "6/6 [==============================] - 0s 2ms/step\n"
     ]
    },
    {
     "data": {
      "text/plain": [
       "<Axes: >"
      ]
     },
     "execution_count": 34,
     "metadata": {},
     "output_type": "execute_result"
    },
    {
     "data": {
      "image/png": "[encoded data removed]",
      "text/plain": [
       "<Figure size 640x480 with 2 Axes>"
      ]
     },
     "metadata": {},
     "output_type": "display_data"
    }
   ],
   "source": [
    "# Predicting the Test set results\n",
    "y_pred = model.predict(X_test)\n",
    "y_pred = (y_pred > 0.5)\n",
    "\n",
    "# Making the Confusion Matrix\n",
    "from sklearn.metrics import confusion_matrix\n",
    "cm = confusion_matrix(y_test, y_pred)\n",
    "\n",
    "sns.heatmap(cm, annot=True)"
   ]
  },
  {
   "cell_type": "code",
   "execution_count": null,
   "id": "040ddf82",
   "metadata": {},
   "outputs": [],
   "source": []
  }
 ],
 "metadata": {
  "kernelspec": {
   "display_name": "Python 3 (ipykernel)",
   "language": "python",
   "name": "python3"
  },
  "language_info": {
   "codemirror_mode": {
    "name": "ipython",
    "version": 3
   },
   "file_extension": ".py",
   "mimetype": "text/x-python",
   "name": "python",
   "nbconvert_exporter": "python",
   "pygments_lexer": "ipython3",
   "version": "3.9.9"
  }
 },
 "nbformat": 4,
 "nbformat_minor": 5
}

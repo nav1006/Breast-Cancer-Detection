{
 "cells": [
  {
   "cell_type": "code",
   "execution_count": 42,
   "id": "9071913a",
   "metadata": {},
   "outputs": [],
   "source": [
    "import pandas as pd\n",
    "from matplotlib import pyplot as plt\n",
    "import seaborn as sns\n",
    "import numpy as np"
   ]
  },
  {
   "cell_type": "code",
   "execution_count": 43,
   "id": "2edcb5af",
   "metadata": {},
   "outputs": [],
   "source": [
    "df = pd.read_csv('data.csv')"
   ]
  },
  {
   "cell_type": "code",
   "execution_count": 44,
   "id": "286ebd3b",
   "metadata": {},
   "outputs": [
    {
     "name": "stdout",
     "output_type": "stream",
     "text": [
      "                         count          mean           std          min  \\\n",
      "id                       569.0  3.037183e+07  1.250206e+08  8670.000000   \n",
      "radius_mean              569.0  1.412729e+01  3.524049e+00     6.981000   \n",
      "texture_mean             569.0  1.928965e+01  4.301036e+00     9.710000   \n",
      "perimeter_mean           569.0  9.196903e+01  2.429898e+01    43.790000   \n",
      "area_mean                569.0  6.548891e+02  3.519141e+02   143.500000   \n",
      "smoothness_mean          569.0  9.636028e-02  1.406413e-02     0.052630   \n",
      "compactness_mean         569.0  1.043410e-01  5.281276e-02     0.019380   \n",
      "concavity_mean           569.0  8.879932e-02  7.971981e-02     0.000000   \n",
      "concave points_mean      569.0  4.891915e-02  3.880284e-02     0.000000   \n",
      "symmetry_mean            569.0  1.811619e-01  2.741428e-02     0.106000   \n",
      "fractal_dimension_mean   569.0  6.279761e-02  7.060363e-03     0.049960   \n",
      "radius_se                569.0  4.051721e-01  2.773127e-01     0.111500   \n",
      "texture_se               569.0  1.216853e+00  5.516484e-01     0.360200   \n",
      "perimeter_se             569.0  2.866059e+00  2.021855e+00     0.757000   \n",
      "area_se                  569.0  4.033708e+01  4.549101e+01     6.802000   \n",
      "smoothness_se            569.0  7.040979e-03  3.002518e-03     0.001713   \n",
      "compactness_se           569.0  2.547814e-02  1.790818e-02     0.002252   \n",
      "concavity_se             569.0  3.189372e-02  3.018606e-02     0.000000   \n",
      "concave points_se        569.0  1.179614e-02  6.170285e-03     0.000000   \n",
      "symmetry_se              569.0  2.054230e-02  8.266372e-03     0.007882   \n",
      "fractal_dimension_se     569.0  3.794904e-03  2.646071e-03     0.000895   \n",
      "radius_worst             569.0  1.626919e+01  4.833242e+00     7.930000   \n",
      "texture_worst            569.0  2.567722e+01  6.146258e+00    12.020000   \n",
      "perimeter_worst          569.0  1.072612e+02  3.360254e+01    50.410000   \n",
      "area_worst               569.0  8.805831e+02  5.693570e+02   185.200000   \n",
      "smoothness_worst         569.0  1.323686e-01  2.283243e-02     0.071170   \n",
      "compactness_worst        569.0  2.542650e-01  1.573365e-01     0.027290   \n",
      "concavity_worst          569.0  2.721885e-01  2.086243e-01     0.000000   \n",
      "concave points_worst     569.0  1.146062e-01  6.573234e-02     0.000000   \n",
      "symmetry_worst           569.0  2.900756e-01  6.186747e-02     0.156500   \n",
      "fractal_dimension_worst  569.0  8.394582e-02  1.806127e-02     0.055040   \n",
      "Unnamed: 32                0.0           NaN           NaN          NaN   \n",
      "\n",
      "                                   25%            50%           75%  \\\n",
      "id                       869218.000000  906024.000000  8.813129e+06   \n",
      "radius_mean                  11.700000      13.370000  1.578000e+01   \n",
      "texture_mean                 16.170000      18.840000  2.180000e+01   \n",
      "perimeter_mean               75.170000      86.240000  1.041000e+02   \n",
      "area_mean                   420.300000     551.100000  7.827000e+02   \n",
      "smoothness_mean               0.086370       0.095870  1.053000e-01   \n",
      "compactness_mean              0.064920       0.092630  1.304000e-01   \n",
      "concavity_mean                0.029560       0.061540  1.307000e-01   \n",
      "concave points_mean           0.020310       0.033500  7.400000e-02   \n",
      "symmetry_mean                 0.161900       0.179200  1.957000e-01   \n",
      "fractal_dimension_mean        0.057700       0.061540  6.612000e-02   \n",
      "radius_se                     0.232400       0.324200  4.789000e-01   \n",
      "texture_se                    0.833900       1.108000  1.474000e+00   \n",
      "perimeter_se                  1.606000       2.287000  3.357000e+00   \n",
      "area_se                      17.850000      24.530000  4.519000e+01   \n",
      "smoothness_se                 0.005169       0.006380  8.146000e-03   \n",
      "compactness_se                0.013080       0.020450  3.245000e-02   \n",
      "concavity_se                  0.015090       0.025890  4.205000e-02   \n",
      "concave points_se             0.007638       0.010930  1.471000e-02   \n",
      "symmetry_se                   0.015160       0.018730  2.348000e-02   \n",
      "fractal_dimension_se          0.002248       0.003187  4.558000e-03   \n",
      "radius_worst                 13.010000      14.970000  1.879000e+01   \n",
      "texture_worst                21.080000      25.410000  2.972000e+01   \n",
      "perimeter_worst              84.110000      97.660000  1.254000e+02   \n",
      "area_worst                  515.300000     686.500000  1.084000e+03   \n",
      "smoothness_worst              0.116600       0.131300  1.460000e-01   \n",
      "compactness_worst             0.147200       0.211900  3.391000e-01   \n",
      "concavity_worst               0.114500       0.226700  3.829000e-01   \n",
      "concave points_worst          0.064930       0.099930  1.614000e-01   \n",
      "symmetry_worst                0.250400       0.282200  3.179000e-01   \n",
      "fractal_dimension_worst       0.071460       0.080040  9.208000e-02   \n",
      "Unnamed: 32                        NaN            NaN           NaN   \n",
      "\n",
      "                                  max  \n",
      "id                       9.113205e+08  \n",
      "radius_mean              2.811000e+01  \n",
      "texture_mean             3.928000e+01  \n",
      "perimeter_mean           1.885000e+02  \n",
      "area_mean                2.501000e+03  \n",
      "smoothness_mean          1.634000e-01  \n",
      "compactness_mean         3.454000e-01  \n",
      "concavity_mean           4.268000e-01  \n",
      "concave points_mean      2.012000e-01  \n",
      "symmetry_mean            3.040000e-01  \n",
      "fractal_dimension_mean   9.744000e-02  \n",
      "radius_se                2.873000e+00  \n",
      "texture_se               4.885000e+00  \n",
      "perimeter_se             2.198000e+01  \n",
      "area_se                  5.422000e+02  \n",
      "smoothness_se            3.113000e-02  \n",
      "compactness_se           1.354000e-01  \n",
      "concavity_se             3.960000e-01  \n",
      "concave points_se        5.279000e-02  \n",
      "symmetry_se              7.895000e-02  \n",
      "fractal_dimension_se     2.984000e-02  \n",
      "radius_worst             3.604000e+01  \n",
      "texture_worst            4.954000e+01  \n",
      "perimeter_worst          2.512000e+02  \n",
      "area_worst               4.254000e+03  \n",
      "smoothness_worst         2.226000e-01  \n",
      "compactness_worst        1.058000e+00  \n",
      "concavity_worst          1.252000e+00  \n",
      "concave points_worst     2.910000e-01  \n",
      "symmetry_worst           6.638000e-01  \n",
      "fractal_dimension_worst  2.075000e-01  \n",
      "Unnamed: 32                       NaN  \n"
     ]
    }
   ],
   "source": [
    "print(df.describe().T)"
   ]
  },
  {
   "cell_type": "code",
   "execution_count": 45,
   "id": "6efc8cfd",
   "metadata": {},
   "outputs": [
    {
     "name": "stdout",
     "output_type": "stream",
     "text": [
      "id                           0\n",
      "diagnosis                    0\n",
      "radius_mean                  0\n",
      "texture_mean                 0\n",
      "perimeter_mean               0\n",
      "area_mean                    0\n",
      "smoothness_mean              0\n",
      "compactness_mean             0\n",
      "concavity_mean               0\n",
      "concave points_mean          0\n",
      "symmetry_mean                0\n",
      "fractal_dimension_mean       0\n",
      "radius_se                    0\n",
      "texture_se                   0\n",
      "perimeter_se                 0\n",
      "area_se                      0\n",
      "smoothness_se                0\n",
      "compactness_se               0\n",
      "concavity_se                 0\n",
      "concave points_se            0\n",
      "symmetry_se                  0\n",
      "fractal_dimension_se         0\n",
      "radius_worst                 0\n",
      "texture_worst                0\n",
      "perimeter_worst              0\n",
      "area_worst                   0\n",
      "smoothness_worst             0\n",
      "compactness_worst            0\n",
      "concavity_worst              0\n",
      "concave points_worst         0\n",
      "symmetry_worst               0\n",
      "fractal_dimension_worst      0\n",
      "Unnamed: 32                569\n",
      "dtype: int64\n"
     ]
    }
   ],
   "source": [
    "print(df.isnull().sum())"
   ]
  },
  {
   "cell_type": "code",
   "execution_count": 46,
   "id": "63a84d6d",
   "metadata": {},
   "outputs": [
    {
     "name": "stdout",
     "output_type": "stream",
     "text": [
      "id                           int64\n",
      "Label                       object\n",
      "radius_mean                float64\n",
      "texture_mean               float64\n",
      "perimeter_mean             float64\n",
      "area_mean                  float64\n",
      "smoothness_mean            float64\n",
      "compactness_mean           float64\n",
      "concavity_mean             float64\n",
      "concave points_mean        float64\n",
      "symmetry_mean              float64\n",
      "fractal_dimension_mean     float64\n",
      "radius_se                  float64\n",
      "texture_se                 float64\n",
      "perimeter_se               float64\n",
      "area_se                    float64\n",
      "smoothness_se              float64\n",
      "compactness_se             float64\n",
      "concavity_se               float64\n",
      "concave points_se          float64\n",
      "symmetry_se                float64\n",
      "fractal_dimension_se       float64\n",
      "radius_worst               float64\n",
      "texture_worst              float64\n",
      "perimeter_worst            float64\n",
      "area_worst                 float64\n",
      "smoothness_worst           float64\n",
      "compactness_worst          float64\n",
      "concavity_worst            float64\n",
      "concave points_worst       float64\n",
      "symmetry_worst             float64\n",
      "fractal_dimension_worst    float64\n",
      "Unnamed: 32                float64\n",
      "dtype: object\n"
     ]
    }
   ],
   "source": [
    "#Rename Dataset to Label to make it easy to understand\n",
    "df = df.rename(columns={'diagnosis':'Label'})\n",
    "print(df.dtypes)"
   ]
  },
  {
   "cell_type": "code",
   "execution_count": 47,
   "id": "209ad030",
   "metadata": {},
   "outputs": [],
   "source": [
    "df.fillna(value=0,inplace=True)"
   ]
  },
  {
   "cell_type": "code",
   "execution_count": 48,
   "id": "83cc6f9a",
   "metadata": {},
   "outputs": [
    {
     "name": "stdout",
     "output_type": "stream",
     "text": [
      "Distribution of data:  B    357\n",
      "M    212\n",
      "Name: Label, dtype: int64\n",
      "Labels before encoding are:  ['B' 'M']\n",
      "Labels after encoding are:  [0 1]\n"
     ]
    }
   ],
   "source": [
    "####### Replace categorical values with numbers########\n",
    "print(\"Distribution of data: \", df['Label'].value_counts())\n",
    "\n",
    "#Define the dependent variable that needs to be predicted (labels)\n",
    "y = df[\"Label\"].values\n",
    "print(\"Labels before encoding are: \", np.unique(y))\n",
    "\n",
    "# Encoding categorical data from text (B and M) to integers (0 and 1)\n",
    "from sklearn.preprocessing import LabelEncoder\n",
    "labelencoder = LabelEncoder()\n",
    "Y = labelencoder.fit_transform(y) # M=1 and B=0\n",
    "print(\"Labels after encoding are: \", np.unique(Y))"
   ]
  },
  {
   "cell_type": "code",
   "execution_count": 49,
   "id": "93e738f1",
   "metadata": {},
   "outputs": [
    {
     "name": "stdout",
     "output_type": "stream",
     "text": [
      "                         count        mean         std         min  \\\n",
      "radius_mean              569.0   14.127292    3.524049    6.981000   \n",
      "texture_mean             569.0   19.289649    4.301036    9.710000   \n",
      "perimeter_mean           569.0   91.969033   24.298981   43.790000   \n",
      "area_mean                569.0  654.889104  351.914129  143.500000   \n",
      "smoothness_mean          569.0    0.096360    0.014064    0.052630   \n",
      "compactness_mean         569.0    0.104341    0.052813    0.019380   \n",
      "concavity_mean           569.0    0.088799    0.079720    0.000000   \n",
      "concave points_mean      569.0    0.048919    0.038803    0.000000   \n",
      "symmetry_mean            569.0    0.181162    0.027414    0.106000   \n",
      "fractal_dimension_mean   569.0    0.062798    0.007060    0.049960   \n",
      "radius_se                569.0    0.405172    0.277313    0.111500   \n",
      "texture_se               569.0    1.216853    0.551648    0.360200   \n",
      "perimeter_se             569.0    2.866059    2.021855    0.757000   \n",
      "area_se                  569.0   40.337079   45.491006    6.802000   \n",
      "smoothness_se            569.0    0.007041    0.003003    0.001713   \n",
      "compactness_se           569.0    0.025478    0.017908    0.002252   \n",
      "concavity_se             569.0    0.031894    0.030186    0.000000   \n",
      "concave points_se        569.0    0.011796    0.006170    0.000000   \n",
      "symmetry_se              569.0    0.020542    0.008266    0.007882   \n",
      "fractal_dimension_se     569.0    0.003795    0.002646    0.000895   \n",
      "radius_worst             569.0   16.269190    4.833242    7.930000   \n",
      "texture_worst            569.0   25.677223    6.146258   12.020000   \n",
      "perimeter_worst          569.0  107.261213   33.602542   50.410000   \n",
      "area_worst               569.0  880.583128  569.356993  185.200000   \n",
      "smoothness_worst         569.0    0.132369    0.022832    0.071170   \n",
      "compactness_worst        569.0    0.254265    0.157336    0.027290   \n",
      "concavity_worst          569.0    0.272188    0.208624    0.000000   \n",
      "concave points_worst     569.0    0.114606    0.065732    0.000000   \n",
      "symmetry_worst           569.0    0.290076    0.061867    0.156500   \n",
      "fractal_dimension_worst  569.0    0.083946    0.018061    0.055040   \n",
      "Unnamed: 32              569.0    0.000000    0.000000    0.000000   \n",
      "\n",
      "                                25%         50%          75%         max  \n",
      "radius_mean               11.700000   13.370000    15.780000    28.11000  \n",
      "texture_mean              16.170000   18.840000    21.800000    39.28000  \n",
      "perimeter_mean            75.170000   86.240000   104.100000   188.50000  \n",
      "area_mean                420.300000  551.100000   782.700000  2501.00000  \n",
      "smoothness_mean            0.086370    0.095870     0.105300     0.16340  \n",
      "compactness_mean           0.064920    0.092630     0.130400     0.34540  \n",
      "concavity_mean             0.029560    0.061540     0.130700     0.42680  \n",
      "concave points_mean        0.020310    0.033500     0.074000     0.20120  \n",
      "symmetry_mean              0.161900    0.179200     0.195700     0.30400  \n",
      "fractal_dimension_mean     0.057700    0.061540     0.066120     0.09744  \n",
      "radius_se                  0.232400    0.324200     0.478900     2.87300  \n",
      "texture_se                 0.833900    1.108000     1.474000     4.88500  \n",
      "perimeter_se               1.606000    2.287000     3.357000    21.98000  \n",
      "area_se                   17.850000   24.530000    45.190000   542.20000  \n",
      "smoothness_se              0.005169    0.006380     0.008146     0.03113  \n",
      "compactness_se             0.013080    0.020450     0.032450     0.13540  \n",
      "concavity_se               0.015090    0.025890     0.042050     0.39600  \n",
      "concave points_se          0.007638    0.010930     0.014710     0.05279  \n",
      "symmetry_se                0.015160    0.018730     0.023480     0.07895  \n",
      "fractal_dimension_se       0.002248    0.003187     0.004558     0.02984  \n",
      "radius_worst              13.010000   14.970000    18.790000    36.04000  \n",
      "texture_worst             21.080000   25.410000    29.720000    49.54000  \n",
      "perimeter_worst           84.110000   97.660000   125.400000   251.20000  \n",
      "area_worst               515.300000  686.500000  1084.000000  4254.00000  \n",
      "smoothness_worst           0.116600    0.131300     0.146000     0.22260  \n",
      "compactness_worst          0.147200    0.211900     0.339100     1.05800  \n",
      "concavity_worst            0.114500    0.226700     0.382900     1.25200  \n",
      "concave points_worst       0.064930    0.099930     0.161400     0.29100  \n",
      "symmetry_worst             0.250400    0.282200     0.317900     0.66380  \n",
      "fractal_dimension_worst    0.071460    0.080040     0.092080     0.20750  \n",
      "Unnamed: 32                0.000000    0.000000     0.000000     0.00000  \n"
     ]
    }
   ],
   "source": [
    "#Define x and normalize / scale values\n",
    "\n",
    "#Define the independent variables. Drop label and ID, and normalize other data\n",
    "X = df.drop(labels = [\"Label\", \"id\"], axis=1) \n",
    "print(X.describe().T) #Needs scaling"
   ]
  },
  {
   "cell_type": "code",
   "execution_count": 50,
   "id": "86d2512f",
   "metadata": {},
   "outputs": [
    {
     "name": "stdout",
     "output_type": "stream",
     "text": [
      "[[0.52103744 0.0226581  0.54598853 ... 0.59846245 0.41886396 0.        ]\n",
      " [0.64314449 0.27257355 0.61578329 ... 0.23358959 0.22287813 0.        ]\n",
      " [0.60149557 0.3902604  0.59574321 ... 0.40370589 0.21343303 0.        ]\n",
      " ...\n",
      " [0.45525108 0.62123774 0.44578813 ... 0.12872068 0.1519087  0.        ]\n",
      " [0.64456434 0.66351031 0.66553797 ... 0.49714173 0.45231536 0.        ]\n",
      " [0.03686876 0.50152181 0.02853984 ... 0.25744136 0.10068215 0.        ]]\n"
     ]
    }
   ],
   "source": [
    "#Scale / normalize the values to bring them to similar range\n",
    "from sklearn.preprocessing import MinMaxScaler\n",
    "scaler = MinMaxScaler()\n",
    "scaler.fit(X)\n",
    "X = scaler.transform(X)\n",
    "print(X)  #Scaled values"
   ]
  },
  {
   "cell_type": "code",
   "execution_count": 51,
   "id": "eb8b0eee",
   "metadata": {},
   "outputs": [
    {
     "name": "stdout",
     "output_type": "stream",
     "text": [
      "Shape of training data is:  (426, 31)\n",
      "Shape of testing data is:  (143, 31)\n"
     ]
    }
   ],
   "source": [
    "#Split data into train and test to verify accuracy after fitting the model. \n",
    "from sklearn.model_selection import train_test_split\n",
    "X_train, X_test, y_train, y_test = train_test_split(X, Y, test_size=0.25, random_state=42)\n",
    "print(\"Shape of training data is: \", X_train.shape)\n",
    "print(\"Shape of testing data is: \", X_test.shape)"
   ]
  },
  {
   "cell_type": "code",
   "execution_count": 52,
   "id": "c7fe7074",
   "metadata": {},
   "outputs": [],
   "source": [
    "from sklearn.preprocessing import StandardScaler"
   ]
  },
  {
   "cell_type": "code",
   "execution_count": 53,
   "id": "c16f876b",
   "metadata": {},
   "outputs": [],
   "source": [
    "scaler = StandardScaler()\n",
    "X_train_std = scaler.fit_transform(X_train)\n",
    "X_test_std = scaler.transform(X_test)"
   ]
  },
  {
   "cell_type": "code",
   "execution_count": 54,
   "id": "81a674ca",
   "metadata": {},
   "outputs": [],
   "source": [
    "# importing tensorflow and Keras\n",
    "import tensorflow as tf \n",
    "tf.random.set_seed(3)\n",
    "from tensorflow import keras"
   ]
  },
  {
   "cell_type": "code",
   "execution_count": 55,
   "id": "8f6caaa6",
   "metadata": {},
   "outputs": [],
   "source": [
    "# setting up the layers of Neural Network\n",
    "model = keras.Sequential([\n",
    "                          keras.layers.Flatten(input_shape=(31,)),\n",
    "                          keras.layers.Dense(20, activation='relu'),\n",
    "                          keras.layers.Dense(2, activation='sigmoid')\n",
    "])"
   ]
  },
  {
   "cell_type": "code",
   "execution_count": 56,
   "id": "4e605e18",
   "metadata": {},
   "outputs": [],
   "source": [
    "# compiling the Neural Network\n",
    "model.compile(optimizer='adam',\n",
    "              loss='sparse_categorical_crossentropy',\n",
    "              metrics=['accuracy'])"
   ]
  },
  {
   "cell_type": "code",
   "execution_count": 57,
   "id": "bc4d4342",
   "metadata": {},
   "outputs": [
    {
     "name": "stdout",
     "output_type": "stream",
     "text": [
      "Model: \"sequential_2\"\n",
      "_________________________________________________________________\n",
      " Layer (type)                Output Shape              Param #   \n",
      "=================================================================\n",
      " flatten_2 (Flatten)         (None, 31)                0         \n",
      "                                                                 \n",
      " dense_4 (Dense)             (None, 20)                640       \n",
      "                                                                 \n",
      " dense_5 (Dense)             (None, 2)                 42        \n",
      "                                                                 \n",
      "=================================================================\n",
      "Total params: 682\n",
      "Trainable params: 682\n",
      "Non-trainable params: 0\n",
      "_________________________________________________________________\n",
      "None\n"
     ]
    }
   ],
   "source": [
    "print(model.summary())"
   ]
  },
  {
   "cell_type": "code",
   "execution_count": 58,
   "id": "e183273f",
   "metadata": {},
   "outputs": [
    {
     "name": "stdout",
     "output_type": "stream",
     "text": [
      "Epoch 1/100\n",
      "8/8 [==============================] - 1s 27ms/step - loss: 0.8961 - accuracy: 0.4765 - val_loss: 0.8106 - val_accuracy: 0.5105\n",
      "Epoch 2/100\n",
      "8/8 [==============================] - 0s 7ms/step - loss: 0.7025 - accuracy: 0.6127 - val_loss: 0.6304 - val_accuracy: 0.6643\n",
      "Epoch 3/100\n",
      "8/8 [==============================] - 0s 6ms/step - loss: 0.5622 - accuracy: 0.7089 - val_loss: 0.4953 - val_accuracy: 0.7622\n",
      "Epoch 4/100\n",
      "8/8 [==============================] - 0s 6ms/step - loss: 0.4613 - accuracy: 0.7958 - val_loss: 0.4034 - val_accuracy: 0.8392\n",
      "Epoch 5/100\n",
      "8/8 [==============================] - 0s 7ms/step - loss: 0.3892 - accuracy: 0.8662 - val_loss: 0.3418 - val_accuracy: 0.8951\n",
      "Epoch 6/100\n",
      "8/8 [==============================] - 0s 7ms/step - loss: 0.3397 - accuracy: 0.8944 - val_loss: 0.2995 - val_accuracy: 0.9231\n",
      "Epoch 7/100\n",
      "8/8 [==============================] - 0s 8ms/step - loss: 0.3032 - accuracy: 0.9038 - val_loss: 0.2674 - val_accuracy: 0.9301\n",
      "Epoch 8/100\n",
      "8/8 [==============================] - 0s 8ms/step - loss: 0.2746 - accuracy: 0.9155 - val_loss: 0.2407 - val_accuracy: 0.9510\n",
      "Epoch 9/100\n",
      "8/8 [==============================] - 0s 5ms/step - loss: 0.2512 - accuracy: 0.9249 - val_loss: 0.2178 - val_accuracy: 0.9510\n",
      "Epoch 10/100\n",
      "8/8 [==============================] - 0s 6ms/step - loss: 0.2311 - accuracy: 0.9319 - val_loss: 0.1987 - val_accuracy: 0.9580\n",
      "Epoch 11/100\n",
      "8/8 [==============================] - 0s 7ms/step - loss: 0.2139 - accuracy: 0.9343 - val_loss: 0.1826 - val_accuracy: 0.9650\n",
      "Epoch 12/100\n",
      "8/8 [==============================] - 0s 6ms/step - loss: 0.1988 - accuracy: 0.9390 - val_loss: 0.1685 - val_accuracy: 0.9720\n",
      "Epoch 13/100\n",
      "8/8 [==============================] - 0s 9ms/step - loss: 0.1854 - accuracy: 0.9437 - val_loss: 0.1556 - val_accuracy: 0.9720\n",
      "Epoch 14/100\n",
      "8/8 [==============================] - 0s 7ms/step - loss: 0.1737 - accuracy: 0.9460 - val_loss: 0.1447 - val_accuracy: 0.9720\n",
      "Epoch 15/100\n",
      "8/8 [==============================] - 0s 5ms/step - loss: 0.1637 - accuracy: 0.9531 - val_loss: 0.1356 - val_accuracy: 0.9720\n",
      "Epoch 16/100\n",
      "8/8 [==============================] - 0s 8ms/step - loss: 0.1553 - accuracy: 0.9554 - val_loss: 0.1281 - val_accuracy: 0.9790\n",
      "Epoch 17/100\n",
      "8/8 [==============================] - 0s 8ms/step - loss: 0.1479 - accuracy: 0.9577 - val_loss: 0.1212 - val_accuracy: 0.9790\n",
      "Epoch 18/100\n",
      "8/8 [==============================] - 0s 6ms/step - loss: 0.1415 - accuracy: 0.9577 - val_loss: 0.1149 - val_accuracy: 0.9790\n",
      "Epoch 19/100\n",
      "8/8 [==============================] - 0s 6ms/step - loss: 0.1353 - accuracy: 0.9601 - val_loss: 0.1097 - val_accuracy: 0.9790\n",
      "Epoch 20/100\n",
      "8/8 [==============================] - 0s 6ms/step - loss: 0.1303 - accuracy: 0.9601 - val_loss: 0.1049 - val_accuracy: 0.9790\n",
      "Epoch 21/100\n",
      "8/8 [==============================] - 0s 8ms/step - loss: 0.1256 - accuracy: 0.9624 - val_loss: 0.1007 - val_accuracy: 0.9790\n",
      "Epoch 22/100\n",
      "8/8 [==============================] - 0s 7ms/step - loss: 0.1212 - accuracy: 0.9671 - val_loss: 0.0973 - val_accuracy: 0.9790\n",
      "Epoch 23/100\n",
      "8/8 [==============================] - 0s 6ms/step - loss: 0.1173 - accuracy: 0.9671 - val_loss: 0.0938 - val_accuracy: 0.9790\n",
      "Epoch 24/100\n",
      "8/8 [==============================] - 0s 7ms/step - loss: 0.1134 - accuracy: 0.9671 - val_loss: 0.0908 - val_accuracy: 0.9790\n",
      "Epoch 25/100\n",
      "8/8 [==============================] - 0s 6ms/step - loss: 0.1098 - accuracy: 0.9671 - val_loss: 0.0882 - val_accuracy: 0.9790\n",
      "Epoch 26/100\n",
      "8/8 [==============================] - 0s 8ms/step - loss: 0.1068 - accuracy: 0.9671 - val_loss: 0.0858 - val_accuracy: 0.9860\n",
      "Epoch 27/100\n",
      "8/8 [==============================] - 0s 7ms/step - loss: 0.1041 - accuracy: 0.9671 - val_loss: 0.0839 - val_accuracy: 0.9860\n",
      "Epoch 28/100\n",
      "8/8 [==============================] - 0s 8ms/step - loss: 0.1013 - accuracy: 0.9718 - val_loss: 0.0817 - val_accuracy: 0.9860\n",
      "Epoch 29/100\n",
      "8/8 [==============================] - 0s 7ms/step - loss: 0.0989 - accuracy: 0.9718 - val_loss: 0.0798 - val_accuracy: 0.9860\n",
      "Epoch 30/100\n",
      "8/8 [==============================] - 0s 6ms/step - loss: 0.0966 - accuracy: 0.9765 - val_loss: 0.0789 - val_accuracy: 0.9860\n",
      "Epoch 31/100\n",
      "8/8 [==============================] - 0s 5ms/step - loss: 0.0947 - accuracy: 0.9765 - val_loss: 0.0779 - val_accuracy: 0.9860\n",
      "Epoch 32/100\n",
      "8/8 [==============================] - 0s 6ms/step - loss: 0.0928 - accuracy: 0.9765 - val_loss: 0.0773 - val_accuracy: 0.9860\n",
      "Epoch 33/100\n",
      "8/8 [==============================] - 0s 6ms/step - loss: 0.0908 - accuracy: 0.9765 - val_loss: 0.0757 - val_accuracy: 0.9860\n",
      "Epoch 34/100\n",
      "8/8 [==============================] - 0s 6ms/step - loss: 0.0889 - accuracy: 0.9765 - val_loss: 0.0742 - val_accuracy: 0.9860\n",
      "Epoch 35/100\n",
      "8/8 [==============================] - 0s 6ms/step - loss: 0.0874 - accuracy: 0.9765 - val_loss: 0.0724 - val_accuracy: 0.9860\n",
      "Epoch 36/100\n",
      "8/8 [==============================] - 0s 8ms/step - loss: 0.0855 - accuracy: 0.9765 - val_loss: 0.0710 - val_accuracy: 0.9860\n",
      "Epoch 37/100\n",
      "8/8 [==============================] - 0s 6ms/step - loss: 0.0839 - accuracy: 0.9789 - val_loss: 0.0699 - val_accuracy: 0.9860\n",
      "Epoch 38/100\n",
      "8/8 [==============================] - 0s 6ms/step - loss: 0.0822 - accuracy: 0.9789 - val_loss: 0.0682 - val_accuracy: 0.9860\n",
      "Epoch 39/100\n",
      "8/8 [==============================] - 0s 7ms/step - loss: 0.0807 - accuracy: 0.9789 - val_loss: 0.0667 - val_accuracy: 0.9860\n",
      "Epoch 40/100\n",
      "8/8 [==============================] - 0s 6ms/step - loss: 0.0791 - accuracy: 0.9789 - val_loss: 0.0655 - val_accuracy: 0.9860\n",
      "Epoch 41/100\n",
      "8/8 [==============================] - 0s 6ms/step - loss: 0.0778 - accuracy: 0.9789 - val_loss: 0.0642 - val_accuracy: 0.9860\n",
      "Epoch 42/100\n",
      "8/8 [==============================] - 0s 6ms/step - loss: 0.0765 - accuracy: 0.9789 - val_loss: 0.0632 - val_accuracy: 0.9860\n",
      "Epoch 43/100\n",
      "8/8 [==============================] - 0s 7ms/step - loss: 0.0753 - accuracy: 0.9789 - val_loss: 0.0625 - val_accuracy: 0.9860\n",
      "Epoch 44/100\n",
      "8/8 [==============================] - 0s 8ms/step - loss: 0.0741 - accuracy: 0.9765 - val_loss: 0.0622 - val_accuracy: 0.9860\n",
      "Epoch 45/100\n",
      "8/8 [==============================] - 0s 9ms/step - loss: 0.0732 - accuracy: 0.9765 - val_loss: 0.0624 - val_accuracy: 0.9860\n",
      "Epoch 46/100\n",
      "8/8 [==============================] - 0s 9ms/step - loss: 0.0721 - accuracy: 0.9765 - val_loss: 0.0623 - val_accuracy: 0.9860\n",
      "Epoch 47/100\n",
      "8/8 [==============================] - 0s 9ms/step - loss: 0.0712 - accuracy: 0.9765 - val_loss: 0.0620 - val_accuracy: 0.9860\n",
      "Epoch 48/100\n",
      "8/8 [==============================] - 0s 8ms/step - loss: 0.0703 - accuracy: 0.9765 - val_loss: 0.0619 - val_accuracy: 0.9860\n",
      "Epoch 49/100\n",
      "8/8 [==============================] - 0s 9ms/step - loss: 0.0692 - accuracy: 0.9765 - val_loss: 0.0614 - val_accuracy: 0.9860\n",
      "Epoch 50/100\n",
      "8/8 [==============================] - 0s 9ms/step - loss: 0.0683 - accuracy: 0.9765 - val_loss: 0.0607 - val_accuracy: 0.9860\n",
      "Epoch 51/100\n",
      "8/8 [==============================] - 0s 8ms/step - loss: 0.0673 - accuracy: 0.9765 - val_loss: 0.0601 - val_accuracy: 0.9860\n",
      "Epoch 52/100\n",
      "8/8 [==============================] - 0s 8ms/step - loss: 0.0665 - accuracy: 0.9765 - val_loss: 0.0594 - val_accuracy: 0.9860\n",
      "Epoch 53/100\n",
      "8/8 [==============================] - 0s 9ms/step - loss: 0.0656 - accuracy: 0.9765 - val_loss: 0.0587 - val_accuracy: 0.9860\n",
      "Epoch 54/100\n",
      "8/8 [==============================] - 0s 6ms/step - loss: 0.0649 - accuracy: 0.9765 - val_loss: 0.0581 - val_accuracy: 0.9860\n",
      "Epoch 55/100\n",
      "8/8 [==============================] - 0s 5ms/step - loss: 0.0640 - accuracy: 0.9765 - val_loss: 0.0575 - val_accuracy: 0.9860\n",
      "Epoch 56/100\n",
      "8/8 [==============================] - 0s 7ms/step - loss: 0.0633 - accuracy: 0.9765 - val_loss: 0.0569 - val_accuracy: 0.9860\n",
      "Epoch 57/100\n",
      "8/8 [==============================] - 0s 6ms/step - loss: 0.0625 - accuracy: 0.9765 - val_loss: 0.0563 - val_accuracy: 0.9860\n",
      "Epoch 58/100\n",
      "8/8 [==============================] - 0s 5ms/step - loss: 0.0617 - accuracy: 0.9765 - val_loss: 0.0557 - val_accuracy: 0.9860\n",
      "Epoch 59/100\n",
      "8/8 [==============================] - 0s 7ms/step - loss: 0.0611 - accuracy: 0.9765 - val_loss: 0.0547 - val_accuracy: 0.9860\n",
      "Epoch 60/100\n",
      "8/8 [==============================] - 0s 6ms/step - loss: 0.0604 - accuracy: 0.9765 - val_loss: 0.0543 - val_accuracy: 0.9860\n",
      "Epoch 61/100\n",
      "8/8 [==============================] - 0s 7ms/step - loss: 0.0594 - accuracy: 0.9765 - val_loss: 0.0546 - val_accuracy: 0.9860\n",
      "Epoch 62/100\n",
      "8/8 [==============================] - 0s 5ms/step - loss: 0.0592 - accuracy: 0.9765 - val_loss: 0.0548 - val_accuracy: 0.9860\n",
      "Epoch 63/100\n",
      "8/8 [==============================] - 0s 6ms/step - loss: 0.0585 - accuracy: 0.9789 - val_loss: 0.0548 - val_accuracy: 0.9860\n",
      "Epoch 64/100\n",
      "8/8 [==============================] - 0s 7ms/step - loss: 0.0578 - accuracy: 0.9789 - val_loss: 0.0544 - val_accuracy: 0.9860\n",
      "Epoch 65/100\n",
      "8/8 [==============================] - 0s 7ms/step - loss: 0.0572 - accuracy: 0.9789 - val_loss: 0.0542 - val_accuracy: 0.9790\n",
      "Epoch 66/100\n",
      "8/8 [==============================] - 0s 7ms/step - loss: 0.0565 - accuracy: 0.9789 - val_loss: 0.0539 - val_accuracy: 0.9790\n",
      "Epoch 67/100\n",
      "8/8 [==============================] - 0s 7ms/step - loss: 0.0558 - accuracy: 0.9789 - val_loss: 0.0538 - val_accuracy: 0.9790\n",
      "Epoch 68/100\n",
      "8/8 [==============================] - 0s 6ms/step - loss: 0.0553 - accuracy: 0.9812 - val_loss: 0.0535 - val_accuracy: 0.9790\n",
      "Epoch 69/100\n",
      "8/8 [==============================] - 0s 7ms/step - loss: 0.0547 - accuracy: 0.9812 - val_loss: 0.0532 - val_accuracy: 0.9790\n",
      "Epoch 70/100\n",
      "8/8 [==============================] - 0s 8ms/step - loss: 0.0542 - accuracy: 0.9812 - val_loss: 0.0532 - val_accuracy: 0.9790\n",
      "Epoch 71/100\n",
      "8/8 [==============================] - 0s 7ms/step - loss: 0.0536 - accuracy: 0.9812 - val_loss: 0.0544 - val_accuracy: 0.9860\n",
      "Epoch 72/100\n",
      "8/8 [==============================] - 0s 5ms/step - loss: 0.0532 - accuracy: 0.9812 - val_loss: 0.0545 - val_accuracy: 0.9860\n",
      "Epoch 73/100\n",
      "8/8 [==============================] - 0s 6ms/step - loss: 0.0527 - accuracy: 0.9812 - val_loss: 0.0540 - val_accuracy: 0.9790\n",
      "Epoch 74/100\n",
      "8/8 [==============================] - 0s 5ms/step - loss: 0.0521 - accuracy: 0.9812 - val_loss: 0.0538 - val_accuracy: 0.9790\n",
      "Epoch 75/100\n",
      "8/8 [==============================] - 0s 6ms/step - loss: 0.0516 - accuracy: 0.9812 - val_loss: 0.0534 - val_accuracy: 0.9790\n",
      "Epoch 76/100\n",
      "8/8 [==============================] - 0s 7ms/step - loss: 0.0512 - accuracy: 0.9812 - val_loss: 0.0530 - val_accuracy: 0.9790\n",
      "Epoch 77/100\n",
      "8/8 [==============================] - 0s 7ms/step - loss: 0.0507 - accuracy: 0.9812 - val_loss: 0.0541 - val_accuracy: 0.9790\n",
      "Epoch 78/100\n",
      "8/8 [==============================] - 0s 6ms/step - loss: 0.0501 - accuracy: 0.9812 - val_loss: 0.0543 - val_accuracy: 0.9790\n",
      "Epoch 79/100\n",
      "8/8 [==============================] - 0s 7ms/step - loss: 0.0497 - accuracy: 0.9812 - val_loss: 0.0546 - val_accuracy: 0.9790\n",
      "Epoch 80/100\n",
      "8/8 [==============================] - 0s 7ms/step - loss: 0.0491 - accuracy: 0.9812 - val_loss: 0.0546 - val_accuracy: 0.9790\n",
      "Epoch 81/100\n",
      "8/8 [==============================] - 0s 8ms/step - loss: 0.0487 - accuracy: 0.9812 - val_loss: 0.0542 - val_accuracy: 0.9790\n",
      "Epoch 82/100\n",
      "8/8 [==============================] - 0s 6ms/step - loss: 0.0481 - accuracy: 0.9812 - val_loss: 0.0536 - val_accuracy: 0.9790\n",
      "Epoch 83/100\n",
      "8/8 [==============================] - 0s 5ms/step - loss: 0.0476 - accuracy: 0.9836 - val_loss: 0.0531 - val_accuracy: 0.9790\n",
      "Epoch 84/100\n",
      "8/8 [==============================] - 0s 7ms/step - loss: 0.0472 - accuracy: 0.9836 - val_loss: 0.0528 - val_accuracy: 0.9790\n",
      "Epoch 85/100\n",
      "8/8 [==============================] - 0s 6ms/step - loss: 0.0467 - accuracy: 0.9836 - val_loss: 0.0525 - val_accuracy: 0.9790\n",
      "Epoch 86/100\n",
      "8/8 [==============================] - 0s 7ms/step - loss: 0.0464 - accuracy: 0.9836 - val_loss: 0.0517 - val_accuracy: 0.9790\n",
      "Epoch 87/100\n",
      "8/8 [==============================] - 0s 9ms/step - loss: 0.0459 - accuracy: 0.9836 - val_loss: 0.0514 - val_accuracy: 0.9860\n",
      "Epoch 88/100\n",
      "8/8 [==============================] - 0s 7ms/step - loss: 0.0455 - accuracy: 0.9836 - val_loss: 0.0512 - val_accuracy: 0.9860\n",
      "Epoch 89/100\n",
      "8/8 [==============================] - 0s 7ms/step - loss: 0.0452 - accuracy: 0.9836 - val_loss: 0.0511 - val_accuracy: 0.9860\n",
      "Epoch 90/100\n",
      "8/8 [==============================] - 0s 6ms/step - loss: 0.0449 - accuracy: 0.9836 - val_loss: 0.0512 - val_accuracy: 0.9860\n",
      "Epoch 91/100\n",
      "8/8 [==============================] - 0s 6ms/step - loss: 0.0444 - accuracy: 0.9836 - val_loss: 0.0513 - val_accuracy: 0.9790\n",
      "Epoch 92/100\n",
      "8/8 [==============================] - 0s 7ms/step - loss: 0.0441 - accuracy: 0.9836 - val_loss: 0.0515 - val_accuracy: 0.9790\n",
      "Epoch 93/100\n",
      "8/8 [==============================] - 0s 8ms/step - loss: 0.0437 - accuracy: 0.9836 - val_loss: 0.0514 - val_accuracy: 0.9790\n",
      "Epoch 94/100\n",
      "8/8 [==============================] - 0s 8ms/step - loss: 0.0434 - accuracy: 0.9836 - val_loss: 0.0516 - val_accuracy: 0.9860\n",
      "Epoch 95/100\n",
      "8/8 [==============================] - 0s 7ms/step - loss: 0.0430 - accuracy: 0.9836 - val_loss: 0.0513 - val_accuracy: 0.9860\n",
      "Epoch 96/100\n",
      "8/8 [==============================] - 0s 8ms/step - loss: 0.0426 - accuracy: 0.9859 - val_loss: 0.0511 - val_accuracy: 0.9790\n",
      "Epoch 97/100\n",
      "8/8 [==============================] - 0s 10ms/step - loss: 0.0424 - accuracy: 0.9859 - val_loss: 0.0510 - val_accuracy: 0.9790\n",
      "Epoch 98/100\n",
      "8/8 [==============================] - 0s 8ms/step - loss: 0.0419 - accuracy: 0.9859 - val_loss: 0.0508 - val_accuracy: 0.9860\n",
      "Epoch 99/100\n",
      "8/8 [==============================] - 0s 7ms/step - loss: 0.0415 - accuracy: 0.9859 - val_loss: 0.0509 - val_accuracy: 0.9860\n",
      "Epoch 100/100\n",
      "8/8 [==============================] - 0s 6ms/step - loss: 0.0411 - accuracy: 0.9859 - val_loss: 0.0507 - val_accuracy: 0.9860\n"
     ]
    }
   ],
   "source": [
    "#Fit with no early stopping or other callbacks\n",
    "history = model.fit(X_train_std, y_train, verbose=1, epochs=100, batch_size=60, validation_data=(X_test_std, y_test))"
   ]
  },
  {
   "cell_type": "code",
   "execution_count": 59,
   "id": "daa5b4f3",
   "metadata": {},
   "outputs": [
    {
     "data": {
      "text/plain": [
       "<matplotlib.legend.Legend at 0x2a7bef76c20>"
      ]
     },
     "execution_count": 59,
     "metadata": {},
     "output_type": "execute_result"
    },
    {
     "data": {
      "image/png": "[encoded data removed]",
      "text/plain": [
       "<Figure size 432x288 with 1 Axes>"
      ]
     },
     "metadata": {
      "needs_background": "light"
     },
     "output_type": "display_data"
    }
   ],
   "source": [
    "plt.plot(history.history['accuracy'])\n",
    "plt.plot(history.history['val_accuracy'])\n",
    "\n",
    "plt.title('model accuracy')\n",
    "plt.ylabel('accuracy')\n",
    "plt.xlabel('epoch')\n",
    "\n",
    "plt.legend(['training data', 'validation data'], loc = 'lower right')"
   ]
  },
  {
   "cell_type": "code",
   "execution_count": 60,
   "id": "fe8b4a63",
   "metadata": {},
   "outputs": [
    {
     "data": {
      "text/plain": [
       "<matplotlib.legend.Legend at 0x2a7befd2b90>"
      ]
     },
     "execution_count": 60,
     "metadata": {},
     "output_type": "execute_result"
    },
    {
     "data": {
      "image/png": "[encoded data removed]",
      "text/plain": [
       "<Figure size 432x288 with 1 Axes>"
      ]
     },
     "metadata": {
      "needs_background": "light"
     },
     "output_type": "display_data"
    }
   ],
   "source": [
    "plt.plot(history.history['loss'])\n",
    "plt.plot(history.history['val_loss'])\n",
    "\n",
    "plt.title('model loss')\n",
    "plt.ylabel('loss')\n",
    "plt.xlabel('epoch')\n",
    "\n",
    "plt.legend(['training data', 'validation data'], loc = 'upper right')"
   ]
  },
  {
   "cell_type": "markdown",
   "id": "6e39b341",
   "metadata": {},
   "source": [
    "# Accuracy of the model on test data"
   ]
  },
  {
   "cell_type": "code",
   "execution_count": 61,
   "id": "e2cad00d",
   "metadata": {},
   "outputs": [
    {
     "name": "stdout",
     "output_type": "stream",
     "text": [
      "5/5 [==============================] - 0s 2ms/step - loss: 0.0507 - accuracy: 0.9860\n",
      "0.9860140085220337\n"
     ]
    }
   ],
   "source": [
    "loss, accuracy = model.evaluate(X_test_std, y_test)\n",
    "print(accuracy)"
   ]
  },
  {
   "cell_type": "code",
   "execution_count": null,
   "id": "ede38d06",
   "metadata": {},
   "outputs": [],
   "source": []
  }
 ],
 "metadata": {
  "kernelspec": {
   "display_name": "Python 3 (ipykernel)",
   "language": "python",
   "name": "python3"
  },
  "language_info": {
   "codemirror_mode": {
    "name": "ipython",
    "version": 3
   },
   "file_extension": ".py",
   "mimetype": "text/x-python",
   "name": "python",
   "nbconvert_exporter": "python",
   "pygments_lexer": "ipython3",
   "version": "3.9.9"
  }
 },
 "nbformat": 4,
 "nbformat_minor": 5
}
